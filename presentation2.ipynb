{
 "cells": [
  {
   "cell_type": "markdown",
   "metadata": {},
   "source": [
    "## In this notebook I will run experiments with pictures."
   ]
  },
  {
   "cell_type": "code",
   "execution_count": 42,
   "metadata": {},
   "outputs": [],
   "source": [
    "import mnist\n",
    "import numpy as np\n",
    "import random as rd\n",
    "import matplotlib.pyplot as plt\n",
    "from desummation import Desummation\n",
    "\n",
    "train_images = mnist.train_images()\n",
    "train_labels = mnist.train_labels()\n",
    "\n",
    "max_points = 1000"
   ]
  },
  {
   "cell_type": "code",
   "execution_count": 43,
   "metadata": {},
   "outputs": [],
   "source": [
    "zeroes = list(np.where(np.array(train_labels) == 0)[0][:max_points])\n",
    "ones = list(np.where(np.array(train_labels) == 1)[0][:max_points])\n",
    "twos = list(np.where(np.array(train_labels) == 2)[0][:max_points])\n",
    "threes = list(np.where(np.array(train_labels) == 3)[0][:max_points])\n",
    "fours = list(np.where(np.array(train_labels) == 4)[0][:max_points])\n",
    "fives = list(np.where(np.array(train_labels) == 5)[0][:max_points])\n",
    "sixs = list(np.where(np.array(train_labels) == 6)[0][:max_points])\n",
    "sevens = list(np.where(np.array(train_labels) == 7)[0][:max_points])\n",
    "eights = list(np.where(np.array(train_labels) == 8)[0][:max_points])\n",
    "nines = list(np.where(np.array(train_labels) == 9)[0][:max_points])"
   ]
  },
  {
   "cell_type": "markdown",
   "metadata": {},
   "source": [
    "## Quick demonstration how pictures look like:"
   ]
  },
  {
   "cell_type": "code",
   "execution_count": 44,
   "metadata": {},
   "outputs": [],
   "source": [
    "def take_example(**kwargs):\n",
    "    index = kwargs.get('index', rd.randint(0, 10000))\n",
    "    return np.resize(train_images[index], (28, 28))"
   ]
  },
  {
   "cell_type": "code",
   "execution_count": 45,
   "metadata": {},
   "outputs": [],
   "source": [
    "#image = take_example()\n",
    "#plt.imshow(image, cmap='gray')\n",
    "#plt.axis('off')\n",
    "#plt.show()"
   ]
  },
  {
   "cell_type": "markdown",
   "metadata": {},
   "source": [
    "![example picture](picture/example_number.png)"
   ]
  },
  {
   "cell_type": "code",
   "execution_count": 46,
   "metadata": {},
   "outputs": [],
   "source": [
    "dsm_pictures = Desummation()"
   ]
  },
  {
   "cell_type": "code",
   "execution_count": 47,
   "metadata": {},
   "outputs": [],
   "source": [
    "index1 = rd.randint(10000, 40000)\n",
    "label1 = train_labels[index1]\n",
    "example1 = take_example(index=index1)"
   ]
  },
  {
   "cell_type": "markdown",
   "metadata": {},
   "source": [
    "### First, let's create for example 200 weights (best result achieves for $\\geq$ 784) and see how well will they approximate some random picture "
   ]
  },
  {
   "cell_type": "code",
   "execution_count": 48,
   "metadata": {},
   "outputs": [
    {
     "name": "stdout",
     "output_type": "stream",
     "text": [
      "Answer 2\n",
      "Index 17315\n"
     ]
    }
   ],
   "source": [
    "dim = 200\n",
    "dsm_pictures.fit(example1, dim)\n",
    "#for j in range(dim):\n",
    "    #dsm_pictures.basis.matrices[j] = np.resize(train_images[j], (28, 28))\n",
    "picture_one = dsm_pictures.predict(example1)\n",
    "print(\"Answer\", label1)\n",
    "print('Index', index1)\n",
    "#plt.imshow(picture_one, cmap='gray')\n",
    "#plt.axis('off')\n",
    "#plt.show()"
   ]
  },
  {
   "cell_type": "markdown",
   "metadata": {},
   "source": [
    "![noisy number](picture/noise.png)"
   ]
  },
  {
   "cell_type": "markdown",
   "metadata": {},
   "source": [
    "## Well... not very good. But now let us change the random matrices on some actual pictures from *zeroes* and *ones* lists `and leave only 2 weights`"
   ]
  },
  {
   "cell_type": "code",
   "execution_count": 49,
   "metadata": {},
   "outputs": [],
   "source": [
    "list1 = zeroes\n",
    "list2 = ones\n",
    "\n",
    "index2 = rd.choice(list1)\n",
    "label2 = train_labels[index2]\n",
    "example2 = take_example(index=index2)\n",
    "\n",
    "dsm_pictures.fit(example2, 2)\n",
    "\n",
    "dsm_pictures.basis.matrices[0] = np.resize(train_images[rd.choice(list1)], (28, 28))\n",
    "dsm_pictures.basis.matrices[1] = np.resize(train_images[rd.choice(list2)], (28, 28))"
   ]
  },
  {
   "cell_type": "markdown",
   "metadata": {},
   "source": [
    "### Now let's look on the predict"
   ]
  },
  {
   "cell_type": "code",
   "execution_count": 50,
   "metadata": {},
   "outputs": [
    {
     "name": "stdout",
     "output_type": "stream",
     "text": [
      "Answer 0\n",
      "Index 6133\n"
     ]
    }
   ],
   "source": [
    "predicted_picture1 = dsm_pictures.predict(example2)\n",
    "print(\"Answer\", label2)\n",
    "print('Index', index2)\n",
    "#plt.imshow(predicted_picture1, cmap='gray')\n",
    "#plt.axis('off')\n",
    "#plt.show()"
   ]
  },
  {
   "cell_type": "markdown",
   "metadata": {},
   "source": [
    "![zero_picture](picture/zero.png)"
   ]
  },
  {
   "cell_type": "markdown",
   "metadata": {},
   "source": [
    "## With only 2 weights, only 2 training samples, we can now diffirentiate zeroes from ones and moreover with brilliant accuracy!\n",
    "### Let us visualise this with plot:"
   ]
  },
  {
   "cell_type": "code",
   "execution_count": 51,
   "metadata": {},
   "outputs": [],
   "source": [
    "def visualise(number1, number2):\n",
    "    x_coords = []\n",
    "    y_coords = []\n",
    "    labels = []\n",
    "\n",
    "    list1 = number1\n",
    "    list2 = number2\n",
    "    list_of_all = list1 + list2\n",
    "\n",
    "    dsm_pictures.basis.matrices[0] = np.resize(train_images[rd.choice(list1)], (28, 28))\n",
    "    dsm_pictures.basis.matrices[1] = np.resize(train_images[rd.choice(list2)], (28, 28))\n",
    "\n",
    "    for index in list_of_all:\n",
    "        picture = train_images[index]\n",
    "        picture = np.resize(picture, (28, 28))\n",
    "        dsm_pictures.predict(picture)\n",
    "        \n",
    "        weights = dsm_pictures.weights()\n",
    "        x_coords.append(weights[0])\n",
    "        y_coords.append(weights[1])\n",
    "        if index in list1:\n",
    "            labels.append(0)\n",
    "        elif index in list2:\n",
    "            labels.append(1)\n",
    "    x_coords = np.array(x_coords)\n",
    "    y_coords = np.array(y_coords)\n",
    "    plt.scatter(x_coords, y_coords, c=labels)\n",
    "    plt.xlabel('X Coordinate')\n",
    "    plt.ylabel('Y Coordinate')\n",
    "    plt.title('Plot of Predictions')\n",
    "    plt.show()\n",
    "\n",
    "    # nines is very bad with: sevens, fives, fours"
   ]
  },
  {
   "cell_type": "code",
   "execution_count": 52,
   "metadata": {},
   "outputs": [],
   "source": [
    "#visualise(zeroes, ones)"
   ]
  },
  {
   "cell_type": "markdown",
   "metadata": {},
   "source": [
    "![zeroes with ones differentiation](picture\\zeroes_ones.png)"
   ]
  },
  {
   "cell_type": "markdown",
   "metadata": {},
   "source": [
    "### This clear differentiation means that we can already use a simple rule to predict 0 and 1, there is the pattern!\n",
    "### You can try various numbers with each other, but for almost all of them the result will be the same."
   ]
  }
 ],
 "metadata": {
  "kernelspec": {
   "display_name": "Python 3",
   "language": "python",
   "name": "python3"
  },
  "language_info": {
   "codemirror_mode": {
    "name": "ipython",
    "version": 3
   },
   "file_extension": ".py",
   "mimetype": "text/x-python",
   "name": "python",
   "nbconvert_exporter": "python",
   "pygments_lexer": "ipython3",
   "version": "3.11.3"
  }
 },
 "nbformat": 4,
 "nbformat_minor": 2
}
