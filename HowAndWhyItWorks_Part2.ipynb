{
 "cells": [
  {
   "cell_type": "markdown",
   "metadata": {},
   "source": [
    "## In this notebook I will run experiments with pictures."
   ]
  },
  {
   "cell_type": "code",
   "execution_count": 34,
   "metadata": {},
   "outputs": [],
   "source": [
    "import mnist\n",
    "import numpy as np\n",
    "import random as rd\n",
    "import matplotlib.pyplot as plt\n",
    "from sklearn.decomposition import NMF\n",
    "from desummation import Desummation\n",
    "\n",
    "train_images = mnist.train_images()\n",
    "train_labels = mnist.train_labels()\n",
    "\n",
    "max_points = 1000"
   ]
  },
  {
   "cell_type": "code",
   "execution_count": 208,
   "metadata": {},
   "outputs": [],
   "source": [
    "zeroes = list(np.where(np.array(train_labels) == 0)[0][:max_points])\n",
    "ones = list(np.where(np.array(train_labels) == 1)[0][:max_points])\n",
    "twos = list(np.where(np.array(train_labels) == 2)[0][:max_points])\n",
    "threes = list(np.where(np.array(train_labels) == 3)[0][:max_points])\n",
    "fours = list(np.where(np.array(train_labels) == 4)[0][:max_points])\n",
    "fives = list(np.where(np.array(train_labels) == 5)[0][:max_points])\n",
    "sixs = list(np.where(np.array(train_labels) == 6)[0][:max_points])\n",
    "sevens = list(np.where(np.array(train_labels) == 7)[0][:max_points])\n",
    "eights = list(np.where(np.array(train_labels) == 8)[0][:max_points])\n",
    "nines = list(np.where(np.array(train_labels) == 9)[0][:max_points])\n",
    "all = [zeroes, ones, twos, threes, fours, fives, sixs, sevens, eights, nines]"
   ]
  },
  {
   "cell_type": "markdown",
   "metadata": {},
   "source": [
    "## Quick demonstration how pictures look like:"
   ]
  },
  {
   "cell_type": "code",
   "execution_count": 36,
   "metadata": {},
   "outputs": [],
   "source": [
    "def take_example(**kwargs):\n",
    "    index = kwargs.get('index', rd.randint(0, 10000))\n",
    "    return np.resize(train_images[index], (28, 28))"
   ]
  },
  {
   "cell_type": "code",
   "execution_count": 37,
   "metadata": {},
   "outputs": [],
   "source": [
    "#image = take_example()\n",
    "#plt.imshow(image, cmap='gray')\n",
    "#plt.axis('off')\n",
    "#plt.show()"
   ]
  },
  {
   "cell_type": "markdown",
   "metadata": {},
   "source": [
    "![example picture](picture/example_number.png)"
   ]
  },
  {
   "cell_type": "code",
   "execution_count": 38,
   "metadata": {},
   "outputs": [],
   "source": [
    "dsm_pictures = Desummation()"
   ]
  },
  {
   "cell_type": "code",
   "execution_count": 39,
   "metadata": {},
   "outputs": [],
   "source": [
    "index1 = rd.randint(10000, 40000)\n",
    "label1 = train_labels[index1]\n",
    "example1 = take_example(index=index1)"
   ]
  },
  {
   "cell_type": "markdown",
   "metadata": {},
   "source": [
    "### First, let's create for example 200 weights (best result achieves for $\\geq$ 784) and see how well will they approximate some random picture "
   ]
  },
  {
   "cell_type": "code",
   "execution_count": 40,
   "metadata": {},
   "outputs": [
    {
     "name": "stdout",
     "output_type": "stream",
     "text": [
      "Answer 0\n",
      "Index 37510\n"
     ]
    }
   ],
   "source": [
    "dim = 200\n",
    "dsm_pictures.fit(example1, dim)\n",
    "#for j in range(dim):\n",
    "    #dsm_pictures.basis.matrices[j] = np.resize(train_images[j], (28, 28))\n",
    "picture_one = dsm_pictures.predict(example1)\n",
    "print(\"Answer\", label1)\n",
    "print('Index', index1)\n",
    "#plt.imshow(picture_one, cmap='gray')\n",
    "#plt.axis('off')\n",
    "#plt.show()"
   ]
  },
  {
   "cell_type": "markdown",
   "metadata": {},
   "source": [
    "![noisy number](picture/noise.png)"
   ]
  },
  {
   "cell_type": "markdown",
   "metadata": {},
   "source": [
    "## Well... not very good. But now let us change the random matrices on some actual pictures from *zeroes* and *ones* lists `and leave only 2 weights`"
   ]
  },
  {
   "cell_type": "code",
   "execution_count": 195,
   "metadata": {},
   "outputs": [],
   "source": [
    "list1 = zeroes\n",
    "list2 = ones\n",
    "\n",
    "index2 = rd.choice(list1)\n",
    "label2 = train_labels[index2]\n",
    "example2 = take_example(index=index2)\n",
    "\n",
    "dsm_pictures.fit(example2, 100)\n",
    "\n",
    "dsm_pictures.basis.matrices[0] = np.resize(train_images[rd.choice(list1)], (28, 28))\n",
    "dsm_pictures.basis.matrices[1] = np.resize(train_images[rd.choice(list2)], (28, 28))"
   ]
  },
  {
   "cell_type": "markdown",
   "metadata": {},
   "source": [
    "### Now let's look on the predict"
   ]
  },
  {
   "cell_type": "code",
   "execution_count": 42,
   "metadata": {},
   "outputs": [
    {
     "name": "stdout",
     "output_type": "stream",
     "text": [
      "Answer 0\n",
      "Index 8515\n"
     ]
    }
   ],
   "source": [
    "predicted_picture1 = dsm_pictures.predict(example2)\n",
    "print(\"Answer\", label2)\n",
    "print('Index', index2)\n",
    "#plt.imshow(predicted_picture1, cmap='gray')\n",
    "#plt.axis('off')\n",
    "#plt.show()"
   ]
  },
  {
   "cell_type": "markdown",
   "metadata": {},
   "source": [
    "![zero_picture](picture/zero.png)"
   ]
  },
  {
   "cell_type": "markdown",
   "metadata": {},
   "source": [
    "## With only 2 weights, only 2 training samples, we can now diffirentiate zeroes from ones and moreover with brilliant accuracy!\n",
    "### Let us visualise this with plot:"
   ]
  },
  {
   "cell_type": "code",
   "execution_count": 165,
   "metadata": {},
   "outputs": [],
   "source": [
    "from sklearn.linear_model import LogisticRegression\n",
    "from sklearn.model_selection import train_test_split\n",
    "from sklearn.metrics import accuracy_score"
   ]
  },
  {
   "cell_type": "code",
   "execution_count": 211,
   "metadata": {},
   "outputs": [],
   "source": [
    "def mnist_classificator(m=2, dim=1, avrg_number=4):\n",
    "    '''\n",
    "    Arguments:\n",
    "        m (int): How many to classificate\n",
    "        dim (int): How many weights to predict for each number\n",
    "        avrg_number (int): How much matrices to take for average (recommended 1-20)\n",
    "\n",
    "    This is very simple example architecture for predicting on MNIST digits dataset.\n",
    "    It classificates \"m\" numbers with basis matrices taken from the dataset and averaged as (their sum) / \"avrg_number\".\n",
    "    Then repeats creating a basis matrices \"dim\" times for each number. \n",
    "    Thus resulting in, as example, 3 base matrices for zero, 3 base matrices for one and in total 6 base matrices(~weights)\n",
    "    So, to create 100 parameters you would need, for example, pass m=9 and dim=10\n",
    "\n",
    "    The plot will always be for distribution of first two weights.\n",
    "    '''\n",
    "    x_coords = []\n",
    "    y_coords = []\n",
    "    labels = []\n",
    "    X = []\n",
    "    dsm_pictures = Desummation()\n",
    "    dsm_pictures.fit(np.zeros((28, 28)), m*(dim-1)+m+1)\n",
    "    \n",
    "    list_of_all = []\n",
    "    all_list = []\n",
    "    for k in range(m):\n",
    "        rd.shuffle(all[k])\n",
    "        list_of_all.append(all[k][:avrg_number*dim])\n",
    "        all_list += all[k][avrg_number*dim:]\n",
    "\n",
    "    for i in range(dim):\n",
    "        for j in range(m):\n",
    "            listj_train = list_of_all[j][avrg_number*i:avrg_number*(i+1)]\n",
    "            dsm_pictures.basis.matrices[m*i+j] = sum([np.resize(train_images[el], (28, 28)) for el in listj_train])//avrg_number\n",
    "\n",
    "    # For better weights stability\n",
    "    dsm_pictures.basis.matrices[m*(dim-1)+m] = np.zeros((28, 28))\n",
    "\n",
    "    for index in all_list:\n",
    "        picture = train_images[index]\n",
    "        picture = np.resize(picture, (28, 28))\n",
    "        dsm_pictures.predict(picture)\n",
    "        \n",
    "        weights = dsm_pictures.weights()\n",
    "        X.append(weights)\n",
    "        x_coords.append(weights[0])\n",
    "        y_coords.append(weights[1])\n",
    "        for l in range(9):\n",
    "            if index in all[l]:\n",
    "                labels.append(l)\n",
    "\n",
    "    x_coords = np.array(x_coords)\n",
    "    y_coords = np.array(y_coords)\n",
    "\n",
    "    # A simple scikit-learn LogisticRegression model\n",
    "    model = LogisticRegression()\n",
    "    X_train, X_test, y_train, y_test = train_test_split(X, labels)\n",
    "    model.fit(X_train, y_train)\n",
    "    predictions = model.predict(X_test)\n",
    "    score = accuracy_score(y_test, predictions)\n",
    "    print('Accuracy of a classifcation:', score)\n",
    "    plt.scatter(x_coords, y_coords, c=labels)\n",
    "    plt.xlabel('X Coordinate')\n",
    "    plt.ylabel('Y Coordinate')\n",
    "    plt.title('Plot of Predictions')\n",
    "    plt.show()\n",
    "\n",
    "\n",
    "    # nines is very bad with: sevens, fives, fours"
   ]
  },
  {
   "cell_type": "code",
   "execution_count": 236,
   "metadata": {},
   "outputs": [],
   "source": [
    "#mnist_classificator(m=2, dim=1, avrg_number=1)"
   ]
  },
  {
   "cell_type": "markdown",
   "metadata": {},
   "source": [
    "![zeroes with ones differentiation](picture/zeroes_ones.png)"
   ]
  },
  {
   "cell_type": "markdown",
   "metadata": {},
   "source": [
    "### After experimenting a little with whole dataset, I got 87% with LogisticRegression model and 100 parameters with this architecture.\n",
    "### Now I end my project there as now I see a lot of possible researches for which I am not ready on my own."
   ]
  },
  {
   "cell_type": "markdown",
   "metadata": {},
   "source": [
    "### For some further intuition I refer you to [this page](https://blog.acolyer.org/2019/02/18/the-why-and-how-of-nonnegative-matrix-factorization/) about Non-Negative Matrix Factorization and for further intuition search for TensorTrain decomposition."
   ]
  },
  {
   "cell_type": "markdown",
   "metadata": {},
   "source": [
    "### Personally I think these researches are close to my work and one may find them interesting."
   ]
  }
 ],
 "metadata": {
  "kernelspec": {
   "display_name": "Python 3",
   "language": "python",
   "name": "python3"
  },
  "language_info": {
   "codemirror_mode": {
    "name": "ipython",
    "version": 3
   },
   "file_extension": ".py",
   "mimetype": "text/x-python",
   "name": "python",
   "nbconvert_exporter": "python",
   "pygments_lexer": "ipython3",
   "version": "3.11.3"
  }
 },
 "nbformat": 4,
 "nbformat_minor": 2
}
